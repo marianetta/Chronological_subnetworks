{
  "nbformat": 4,
  "nbformat_minor": 0,
  "metadata": {
    "colab": {
      "provenance": []
    },
    "kernelspec": {
      "name": "python3",
      "display_name": "Python 3"
    },
    "language_info": {
      "name": "python"
    }
  },
  "cells": [
    {
      "cell_type": "code",
      "execution_count": 1,
      "metadata": {
        "id": "VNtTeL8Nz7fX"
      },
      "outputs": [],
      "source": [
        "strs = []\n",
        "labels = []\n",
        "with open('/content/drive/MyDrive/probing/bert based/tasks/tree_depth.txt') as f:\n",
        "  lines = f.readlines()[110000:120000]\n",
        "  for l in lines:\n",
        "    spl = l.split('\\t')\n",
        "    strs.append(spl[2])\n",
        "    labels.append(spl[1])\n",
        "with open('td_test_in.txt', 'w') as f1:\n",
        "  stro = ' '.join(strs)\n",
        "  f1.write(stro)\n",
        "with open('td_test_label.txt', 'w') as f2:\n",
        "  stro = '\\n'.join(labels)\n",
        "  f2.write(stro)"
      ]
    },
    {
      "cell_type": "code",
      "source": [
        "strs = []\n",
        "labels = []\n",
        "with open('/content/drive/MyDrive/probing/bert based/tasks/tree_depth.txt') as f:\n",
        "  lines = f.readlines()\n",
        "  for l in lines:\n",
        "    spl = l.split('\\t')\n",
        "    strs.append(spl[2])\n",
        "    labels.append(spl[1])\n",
        "with open('td_train_in.txt', 'w') as f1:\n",
        "  stro = ' '.join(strs)\n",
        "  f1.write(stro)\n",
        "with open('td_train_label.txt', 'w') as f2:\n",
        "  stro = '\\n'.join(labels)\n",
        "  f2.write(stro)"
      ],
      "metadata": {
        "id": "iuyUD5il1lue"
      },
      "execution_count": 2,
      "outputs": []
    }
  ]
}